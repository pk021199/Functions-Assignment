{
  "nbformat": 4,
  "nbformat_minor": 0,
  "metadata": {
    "colab": {
      "provenance": []
    },
    "kernelspec": {
      "name": "python3",
      "display_name": "Python 3"
    },
    "language_info": {
      "name": "python"
    }
  },
  "cells": [
    {
      "cell_type": "markdown",
      "source": [
        "#Theory Questions."
      ],
      "metadata": {
        "id": "daYMco9zbISb"
      }
    },
    {
      "cell_type": "markdown",
      "source": [
        "1. What is the difference between a function and a method in Python?\n",
        " - In Python, functions and methods are both blocks of reusable code that perform a specific task, but there are key differences between them based on how they're defined and used:\n",
        "\n",
        "     **Function**\n",
        "\n",
        "     A function is a block of code defined using the def keyword (or lambda) that is not bound to any object.\n",
        "\n",
        "     It can be called independently and is often defined at the module level.\n",
        "\n",
        "     **Example:**\n",
        "\n",
        "     def greet(name):\n",
        "\n",
        "     return f\"Hello, {name}!\"\n",
        "\n",
        "     print(greet(\"Alice\"))\n",
        "\n",
        "     **Method**\n",
        "\n",
        "     A method is a function that is associated with an object — typically defined inside a class.\n",
        "\n",
        "     It is invoked on an instance (or the class itself for class methods) and usually operates on that instance’s data.\n",
        "\n",
        "     It must have self as the first parameter (for instance methods) to access instance attributes.\n",
        "\n",
        "     class Greeter:\n",
        "\n",
        "     def greet(self, name):\n",
        "       \n",
        "        return f\"Hello, {name}!\"\n",
        "\n",
        "     g = Greeter()\n",
        "\n",
        "     print(g.greet(\"Alice\"))  # 'greet' is a method\n",
        "\n"
      ],
      "metadata": {
        "id": "fg3B3vVcc4HN"
      }
    },
    {
      "cell_type": "markdown",
      "source": [
        "2.  Explain the concept of function arguments and parameters in Python?\n",
        " - In Python, arguments and parameters are closely related concepts that often get confused, but they refer to different things:\n",
        "\n",
        "     **Parameters:**\n",
        "\n",
        "     Parameters are the placeholders in a function definition.\n",
        "\n",
        "     They define what kind of inputs the function expects.\n",
        "\n",
        "       **Arguments:**\n",
        "\n",
        "     Arguments are the actual values you pass to the function when you call it.\n",
        "\n",
        "     These are what get plugged into the parameters.\n",
        "\n",
        "     **Relationship:**\n",
        "\n",
        "     When you call a function, arguments are matched to parameters by position (or name, if using keyword arguments).\n",
        "\n",
        "     **Example:**\n",
        "\n",
        "     def add(x, y):      # x and y are parameters\n",
        "\n",
        "     return x + y\n",
        "\n",
        "     result = add(3, 5)  # 3 and 5 are arguments\n",
        "\n",
        "     **Types of Arguments in Python:**\n",
        "\n",
        "     1.Positional arguments – matched by order.\n",
        "\n",
        "     2.Keyword arguments – matched by name.\n",
        "\n",
        "     3.Default arguments – parameters that have default values.\n",
        "\n",
        "     4.Variable-length arguments:\n",
        "\n",
        "         *args: for any number of positional arguments.\n",
        "\n",
        "        **kwargs: for any number of keyword arguments.\n"
      ],
      "metadata": {
        "id": "ZqQlDdeUeitR"
      }
    },
    {
      "cell_type": "markdown",
      "source": [
        "3.  What are the different ways to define and call a function in Python?\n",
        " - In Python, functions are fundamental building blocks used to group reusable code. Functions can be defined and called in various ways, depending on the programming need. Here's a theoretical overview:\n",
        "\n",
        " 1. Defining Functions\n",
        "\n",
        "     a) Standard Function Definition (def)\n",
        "\n",
        "     The most common way to define a function is using the def keyword.\n",
        "\n",
        "     Example:\n",
        "\n",
        "     def function_name(parameters):\n",
        "\n",
        "      function body\n",
        "\n",
        "     return result\n",
        "\n",
        "     b) Function with Default Arguments\n",
        "\n",
        "     Allows default values for parameters, making them optional during function calls.\n",
        "\n",
        "     Example:\n",
        "\n",
        "     def greet(name=\"Guest\"):\n",
        "\n",
        "     return f\"Hello, {name}\"\n",
        "\n",
        "     c) Function with Variable Arguments (*args, **kwargs)\n",
        "      \n",
        "      * *args lets you pass a variable number of positional arguments.\n",
        "      * **kwargs lets you pass a variable number of keyword arguments.\n",
        "      * Useful for functions that accept dynamic inputs.\n",
        "\n",
        "     d) Lambda (Anonymous) Functions\n",
        "\n",
        "     * Defined using the lambda keyword for small, one-line functions.\n",
        "     * Syntax: lambda arguments: expression\n",
        "     * Typically used for short, temporary tasks (e.g., in sorting, filtering).\n",
        "\n",
        "     e) Nested Functions\n",
        "\n",
        "        Functions defined inside another function. The inner function is only accessible within the outer one. Often used for encapsulation or closures.\n",
        "\n",
        "     f) Recursive Functions\n",
        "\n",
        "      A function that calls itself to solve a problem by breaking it down into smaller sub-problems.\n",
        "\n",
        "     g) Function as Object\n",
        "    \n",
        "     In Python, functions are first-class objects:\n",
        "     *   Can be passed as arguments\n",
        "     *   Can be returned from other functions\n",
        "     *   Can be assigned to variables"
      ],
      "metadata": {
        "id": "Y3GeaFQ9h759"
      }
    },
    {
      "cell_type": "markdown",
      "source": [
        "4. What is the purpose of the `return` statement in a Python function?\n",
        " - The return statement in Python is used to send a value back to the caller of a function. It marks the end of a function’s execution and specifies what value should be returned to the part of the program that called the function.\n",
        "\n",
        "     Key Purposes of return:\n",
        "  1. Return a Result:\n",
        "\n",
        "     It provides the output or result of the function after processing inputs.\n",
        "  2. End Function Execution:\n",
        "\n",
        "     Once return is executed, the function stops running, even if there is more code after it.\n",
        "  3. Enable Function Reuse in Expressions:\n",
        "\n",
        "     Functions that return values can be used in expressions, assignments, or other function calls.\n",
        "\n",
        "     Example:\n",
        "\n",
        "     def square(num):\n",
        "\n",
        "     return num * num\n",
        "\n",
        "     result = square(5)\n",
        "\n",
        "     print(\"The square is:\", result)\n",
        "\n",
        "     Output:\n",
        "\n",
        "     The square is: 25"
      ],
      "metadata": {
        "id": "sjyVWUY5ls3V"
      }
    },
    {
      "cell_type": "markdown",
      "source": [
        "5. What are iterators in Python and how do they differ from iterables?\n",
        " - 1. Iterables\n",
        "\n",
        "     An iterable is any Python object capable of returning its members one at a time. It can be passed to the built-in iter() function to create an iterator.\n",
        "\n",
        "     Examples of iterables:\n",
        "\n",
        "     Lists ([1, 2, 3])\n",
        "\n",
        "     Tuples ((1, 2, 3))\n",
        "\n",
        "     Strings (\"abc\")\n",
        "\n",
        "     Dictionaries, Sets, etc.\n",
        "\n",
        "     Iterables do not keep track of their current position when iterating.\n",
        "\n",
        "     2. Iterators\n",
        "\n",
        "     An iterator is an object that represents a stream of data. It remembers its position during iteration and yields items one at a time using the __next__() method.\n",
        "\n",
        "     To be an iterator, an object must implement:\n",
        "\n",
        "     __iter__() → returns the iterator object itself\n",
        "\n",
        "     __next__() → returns the next item; raises StopIteration when done\n",
        "\n",
        "     Eample:\n",
        "\n",
        "     #Iterable\n",
        "\n",
        "     nums = [10, 20, 30]\n",
        "\n",
        "     #Convert to Iterator\n",
        "\n",
        "     it = iter(nums)\n",
        "\n",
        "     print(next(it))  # Output: 10\n",
        "\n",
        "     print(next(it))  # Output: 20\n",
        "\n",
        "     print(next(it))  # Output: 30\n",
        "\n",
        "    *   Iterable: Any object that can return an iterator.\n",
        "    *   Iterator: Object that keeps state and returns elements using __next__().\n",
        "    *   Iterators are used for memory-efficient looping, especially with large datasets or infinite sequences."
      ],
      "metadata": {
        "id": "S78jjf_sorvU"
      }
    },
    {
      "cell_type": "markdown",
      "source": [
        "6.  Explain the concept of generators in Python and how they are defined?\n",
        " - A generator is a special type of iterator that generates values on the fly instead of storing them all in memory at once. It is used to iterate over large or infinite sequences efficiently.\n",
        "\n",
        "     Generators are defined like regular functions, but instead of return, they use the yield keyword to produce a value.\n",
        "\n",
        "     Example:\n",
        "\n",
        "     counter = count_up_to(3)\n",
        "\n",
        "     print(next(counter))  # Output: 1\n",
        "\n",
        "     print(next(counter))  # Output: 2\n",
        "\n",
        "     print(next(counter))  # Output: 3\n",
        "\n",
        "     #next(counter) now raises StopIteration\n",
        "\n",
        "     Explain:\n",
        "\n",
        "     *   The yield statement pauses the function and returns a value.\n",
        "     *   The function remembers its state (local variables, execution point) for the next call.\n",
        "     *   When next() is called again, execution resumes from where it was paused, not from the beginning.\n",
        "\n",
        "     Summary:\n",
        "     *   Generators are a powerful tool for iteration, especially when dealing with large data sets or streams.\n",
        "     *   Defined using a normal function with the yield keyword.\n",
        "     *   They provide lazy evaluation, meaning values are calculated only when needed."
      ],
      "metadata": {
        "id": "2ya6jJepqdnd"
      }
    },
    {
      "cell_type": "markdown",
      "source": [
        "7. What are the advantages of using generators over regular functions?\n",
        " - Generators are special functions that use the yield keyword to produce a series of values one at a time, instead of computing and returning all values at once (as regular functions do).\n",
        "\n",
        "     Advantages of Using Generators:\n",
        "\n",
        "     1. Memory Efficiency\n",
        "     *   Generators don’t store the entire sequence in memory.\n",
        "     *   Useful for handling large datasets or infinite sequences.\n",
        "\n",
        "        Example: Instead of creating a list with 1 million numbers, a generator yields them one by one.\n",
        "\n",
        "    2. Lazy Evaluation\n",
        "    *   Values are computed only when needed.\n",
        "    *   Reduces initial load time and improves performance.\n",
        "    3. Improved Performance\n",
        "\n",
        "       Faster than functions that return large lists, especially when only part of the data is used.\n",
        "\n",
        "    4. Cleaner and More Readable Code\n",
        "\n",
        "       Easier to write and read compared to managing state manually in classes or loops.\n",
        "\n",
        "    5. Infinite Sequences\n",
        "\n",
        "      Generators are ideal for defining infinite or unknown-length sequences without running out of memory.\n",
        "\n",
        "      Example:\n",
        "\n",
        "      **Regular Function (Returns List):**\n",
        "\n",
        "      def get_squares(n):\n",
        "\n",
        "      result = []\n",
        "\n",
        "      for i in range(n):\n",
        "\n",
        "        result.append(i * i)\n",
        "\n",
        "       return result\n",
        "\n",
        "      print(get_squares(5))  # [0, 1, 4, 9, 16]\n",
        "\n",
        "      **Generator Function:**\n",
        "\n",
        "      def generate_squares(n):\n",
        "\n",
        "      for i in range(n):\n",
        "\n",
        "        yield i * i\n",
        "\n",
        "      squares = generate_squares(5)\n",
        "\n",
        "      for square in squares:\n",
        "\n",
        "      print(square)  # Outputs: 0, 1, 4, 9, 16\n"
      ],
      "metadata": {
        "id": "as_mTtigsW26"
      }
    },
    {
      "cell_type": "markdown",
      "source": [
        "8. What is a lambda function in Python and when is it typically used?\n",
        " - A lambda function in Python is a small, anonymous (nameless) function defined using the lambda keyword.\n",
        "\n",
        "     It can have any number of arguments, but only one expression.\n",
        "\n",
        "     The result of the expression is automatically returned — no need for an explicit return statement.\n",
        "\n",
        "     Lambda functions are commonly used:\n",
        "  1.  For short, throwaway functions (i.e., not reused elsewhere).\n",
        "  2.  As arguments to higher-order functions like map(), filter(), and sorted().\n",
        "  3.  For quick, inline logic where defining a full def function is overkill.\n",
        "  4.  With GUI or event-handling code where a callback is required.\n",
        "      \n",
        "      Example:\n",
        "\n",
        "      #List of numbers\n",
        "\n",
        "      numbers = [1, 2, 3, 4, 5]\n",
        "\n",
        "     #Using lambda to square each number\n",
        "\n",
        "     squares = list(map(lambda x: x * x, numbers))\n",
        "\n",
        "     print(squares)  # Output: [1, 4, 9, 16, 25]"
      ],
      "metadata": {
        "id": "pbQ2ATMruoB0"
      }
    },
    {
      "cell_type": "markdown",
      "source": [
        "9. Explain the purpose and usage of the `map()` function in Python?\n",
        " - The map() function in Python is used to apply a function to each item of an iterable (like a list, tuple, etc.) and returns a new map object (an iterator) with the results.\n",
        "\n",
        "     It provides a clean and efficient way to transform data without writing explicit loops.\n",
        "\n",
        "     Purpose of map()\n",
        "    *   To process or transform every element in a collection using a specific function.\n",
        "    *   Avoids manual loops like for or while.\n",
        "    *   Commonly used with lambda functions for quick, inline transformations.\n",
        "\n",
        "     Example:\n",
        "\n",
        "     numbers = [1, 2, 3, 4, 5]\n",
        "\n",
        "     #Using map() with a lambda function\n",
        "\n",
        "     doubled = map(lambda x: x * 2, numbers)\n",
        "\n",
        "     print(list(doubled))  # Output: [2, 4, 6, 8, 10]\n",
        "\n",
        "    *   lambda x: x * 2 is a small function that doubles a number.\n",
        "    *   map() applies this function to every item in the numbers list.\n",
        "    *   The result is a map object, which is converted to a list using list()."
      ],
      "metadata": {
        "id": "pLc7pWBjv0Ng"
      }
    },
    {
      "cell_type": "markdown",
      "source": [
        "10.  What is the difference between `map()`, `reduce()`, and `filter()` functions in Python?\n",
        " - In Python, map(), filter(), and reduce() are higher-order functions that operate on iterables (like lists or tuples). They are used for functional-style programming — processing data without writing explicit loops.\n",
        "\n",
        " 1. map() – Transform Elements\n",
        "    *   Purpose: Applies a function to each item in an iterable and returns a new iterable (map object) with the results.\n",
        "    *   Use Case: When you want to transform all elements (e.g. square, convert, modify).\n",
        "\n",
        "      Example:\n",
        "\n",
        "      numbers = [1, 2, 3, 4]\n",
        "\n",
        "       result = map(lambda x: x * 2, numbers)\n",
        "\n",
        "       print(list(result))  # Output: [2, 4, 6, 8]\n",
        "\n",
        "  2. filter() – Select Elements\n",
        "  *   Purpose: Applies a function that returns True or False to each item and keeps only items where the function returns True.\n",
        "  *   Use Case: When you want to filter out unwanted elements.\n",
        "\n",
        "      Example:\n",
        "\n",
        "      numbers = [1, 2, 3, 4, 5]\n",
        "\n",
        "      result = filter(lambda x: x % 2 == 0, numbers)\n",
        "\n",
        "      print(list(result))  # Output: [2, 4]\n",
        "\n",
        "  3. reduce() – Aggregate Elements\n",
        "  *   Purpose: Applies a function cumulatively to the elements of an iterable, reducing the iterable to a single value.\n",
        "  *   Use Case: When you want to combine or summarize elements (e.g. sum, product, max).\n",
        "  Note: reduce() is not a built-in function; it is found in the functools module.\n",
        "\n",
        "      Example:\n",
        "\n",
        "      from functools import reduce\n",
        "\n",
        "      numbers = [1, 2, 3, 4]\n",
        "\n",
        "      result = reduce(lambda x, y: x + y, numbers)\n",
        "\n",
        "      print(result)  # Output: 10\n",
        "\n",
        "  *   Use map() when you want to change each element.\n",
        "  *   Use filter() when you want to select elements based on a condition.\n",
        "  *   Use reduce() when you want to combine all elements into one."
      ],
      "metadata": {
        "id": "xR5cyF4jxT6P"
      }
    },
    {
      "cell_type": "markdown",
      "source": [
        "11.  Using pen & Paper write the internal mechanism for sum operation using  reduce function on this given\n",
        "list:[47,11,42,13];\n",
        " - The reduce() function, available in the functools module, applies a binary function cumulatively to the items of an iterable, from left to right, to reduce it to a single final value.\n",
        "\n",
        "      Simulate step-by-step how Python’s reduce() function performs a sum operation on the list:\n",
        "\n",
        "      [47, 11, 42, 13]\n",
        "\n",
        "      Step-by-Step Internal Process\n",
        "\n",
        "      Let's write each step manually.\n",
        "      ![WhatsApp Image 2025-06-22 at 12.30.34 AM.jpeg](data:image/jpeg;base64,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)\n",
        "\n",
        "\n",
        "      from functools import reduce\n",
        "\n",
        "      numbers = [47, 11, 42, 13]\n",
        "\n",
        "      result = reduce(lambda x, y: x + y, numbers)\n",
        "\n",
        "      print(result)  # Output: 113\n"
      ],
      "metadata": {
        "id": "V4SODMt30H59"
      }
    },
    {
      "cell_type": "markdown",
      "source": [
        "#Practical Questions:\n"
      ],
      "metadata": {
        "id": "cuYRGfx15XXs"
      }
    },
    {
      "cell_type": "markdown",
      "source": [
        "1. Write a Python function that takes a list of numbers as input and returns the sum of all even numbers in the list?"
      ],
      "metadata": {
        "id": "BsHgxrU05dls"
      }
    },
    {
      "cell_type": "code",
      "source": [
        "list = [1,2,3,4,5,6,7,8,9,10]\n",
        "def sum_of_even_numbers(list):\n",
        "    sum = 0\n",
        "    for num in list:\n",
        "        if num % 2 == 0:\n",
        "            sum += num\n",
        "    return sum\n",
        "print(sum_of_even_numbers(list))"
      ],
      "metadata": {
        "colab": {
          "base_uri": "https://localhost:8080/"
        },
        "id": "A_rx75ln5qpO",
        "outputId": "740be11f-d9fa-40ad-c5de-935c5e5ad41c"
      },
      "execution_count": null,
      "outputs": [
        {
          "output_type": "stream",
          "name": "stdout",
          "text": [
            "30\n"
          ]
        }
      ]
    },
    {
      "cell_type": "markdown",
      "source": [
        "2.  Create a Python function that accepts a string and returns the reverse of that string?"
      ],
      "metadata": {
        "id": "u11MzAR35_KR"
      }
    },
    {
      "cell_type": "code",
      "source": [
        "def reverse_string(string):\n",
        "    return string[::-1]\n",
        "print(reverse_string(\"hello\"))"
      ],
      "metadata": {
        "colab": {
          "base_uri": "https://localhost:8080/"
        },
        "id": "vntQvD776CfZ",
        "outputId": "fea95aef-7835-42ca-914f-7b4b9910f884"
      },
      "execution_count": null,
      "outputs": [
        {
          "output_type": "stream",
          "name": "stdout",
          "text": [
            "olleh\n"
          ]
        }
      ]
    },
    {
      "cell_type": "markdown",
      "source": [
        "3. Implement a Python function that takes a list of integers and returns a new list containing the squares of\n",
        "each number?"
      ],
      "metadata": {
        "id": "02ZVk09V6PA8"
      }
    },
    {
      "cell_type": "code",
      "source": [
        "def square_numbers(list):\n",
        "    return [num**2 for num in list]\n",
        "print(square_numbers([1,2,3,4,5]))"
      ],
      "metadata": {
        "colab": {
          "base_uri": "https://localhost:8080/"
        },
        "id": "Qayvd4jk6UgM",
        "outputId": "c562fd1f-86f3-413e-d1bc-25811bb5bacf"
      },
      "execution_count": null,
      "outputs": [
        {
          "output_type": "stream",
          "name": "stdout",
          "text": [
            "[1, 4, 9, 16, 25]\n"
          ]
        }
      ]
    },
    {
      "cell_type": "markdown",
      "source": [
        "4. Write a Python function that checks if a given number is prime or not from 1 to 200?"
      ],
      "metadata": {
        "id": "snejLF1i6iX5"
      }
    },
    {
      "cell_type": "code",
      "source": [
        "def is_prime(num):\n",
        "    if num < 2:\n",
        "        return False\n",
        "    for i in range(2, int(num**0.5) + 1):\n",
        "        if num % i == 0:\n",
        "            return False\n",
        "    return True\n",
        "\n",
        "for num in range(1, 201):\n",
        "    if is_prime(num):\n",
        "        print(num)"
      ],
      "metadata": {
        "id": "wjki4uyn6qBv",
        "colab": {
          "base_uri": "https://localhost:8080/"
        },
        "outputId": "999d9fd8-5831-4a83-aa80-209d3d216691"
      },
      "execution_count": null,
      "outputs": [
        {
          "output_type": "stream",
          "name": "stdout",
          "text": [
            "2\n",
            "3\n",
            "5\n",
            "7\n",
            "11\n",
            "13\n",
            "17\n",
            "19\n",
            "23\n",
            "29\n",
            "31\n",
            "37\n",
            "41\n",
            "43\n",
            "47\n",
            "53\n",
            "59\n",
            "61\n",
            "67\n",
            "71\n",
            "73\n",
            "79\n",
            "83\n",
            "89\n",
            "97\n",
            "101\n",
            "103\n",
            "107\n",
            "109\n",
            "113\n",
            "127\n",
            "131\n",
            "137\n",
            "139\n",
            "149\n",
            "151\n",
            "157\n",
            "163\n",
            "167\n",
            "173\n",
            "179\n",
            "181\n",
            "191\n",
            "193\n",
            "197\n",
            "199\n"
          ]
        }
      ]
    },
    {
      "cell_type": "markdown",
      "source": [
        "5.  Create an iterator class in Python that generates the Fibonacci sequence up to a specified number of\n",
        "terms?"
      ],
      "metadata": {
        "id": "CfoinO0c7Nyk"
      }
    },
    {
      "cell_type": "code",
      "source": [
        "class FibonacciIterator:\n",
        "    def __init__(self, max_terms):\n",
        "        self.max_terms = max_terms\n",
        "        self.count = 0\n",
        "        self.a, self.b = 0, 1\n",
        "\n",
        "    def __iter__(self):\n",
        "        return self\n",
        "\n",
        "    def __next__(self):\n",
        "        if self.count >= self.max_terms:\n",
        "            raise StopIteration\n",
        "        if self.count == 0:\n",
        "            self.count += 1\n",
        "            return 0\n",
        "        elif self.count == 1:\n",
        "            self.count += 1\n",
        "            return 1\n",
        "        else:\n",
        "            self.a, self.b = self.b, self.a + self.b\n",
        "            self.count += 1\n",
        "            return self.b\n",
        "\n",
        "fib = FibonacciIterator(10)\n",
        "for num in fib:\n",
        "             print(num)"
      ],
      "metadata": {
        "id": "aVDMQL0paQ5i",
        "colab": {
          "base_uri": "https://localhost:8080/"
        },
        "outputId": "214916eb-3e67-4c1a-80df-1535b875fcc6"
      },
      "execution_count": 41,
      "outputs": [
        {
          "output_type": "stream",
          "name": "stdout",
          "text": [
            "0\n",
            "1\n",
            "1\n",
            "2\n",
            "3\n",
            "5\n",
            "8\n",
            "13\n",
            "21\n",
            "34\n"
          ]
        }
      ]
    },
    {
      "cell_type": "markdown",
      "source": [
        "6. Write a generator function in Python that yields the powers of 2 up to a given exponent?"
      ],
      "metadata": {
        "id": "rAc4WFLJ8bXX"
      }
    },
    {
      "cell_type": "code",
      "source": [
        "def powers_of_two(n):\n",
        "    \"\"\"Generator that yields powers of 2 from 2^0 to 2^n.\"\"\"\n",
        "    for exponent in range(n + 1):\n",
        "        yield 2 ** exponent\n",
        "\n",
        "for power in powers_of_two(5):\n",
        "    print(power)"
      ],
      "metadata": {
        "id": "PEd4jIJA8c6u",
        "colab": {
          "base_uri": "https://localhost:8080/"
        },
        "outputId": "848a7412-6398-45e9-cd65-60072f797a85"
      },
      "execution_count": null,
      "outputs": [
        {
          "output_type": "stream",
          "name": "stdout",
          "text": [
            "1\n",
            "2\n",
            "4\n",
            "8\n",
            "16\n",
            "32\n"
          ]
        }
      ]
    },
    {
      "cell_type": "markdown",
      "source": [
        "7.  Implement a generator function that reads a file line by line and yields each line as a string."
      ],
      "metadata": {
        "id": "rNyqRO4Y9ID5"
      }
    },
    {
      "cell_type": "code",
      "source": [
        "#Implement a generator function that reads a file line by line and yields each line as a string.\n",
        "def read_file_lines(file_path):\n",
        "    with open(file_path, 'r') as file:\n",
        "        for line in file:\n",
        "            yield line.rstrip('\\n')\n",
        "#Example usage (assuming you have a file named'example.txt'):\n",
        "#Create a dummy file for demonstration\n",
        "with open('example.txt','w')as f:\n",
        "  f.write('This is the first line.\\n')\n",
        "  f.write('This is the second line.\\n')\n",
        "  f.write('And the third line.')\n",
        "\n",
        "for line in read_file_lines('example.txt'):\n",
        "    print(line)"
      ],
      "metadata": {
        "id": "MCLmBJMQ9MdB",
        "colab": {
          "base_uri": "https://localhost:8080/"
        },
        "outputId": "dae0b098-ab78-48f2-e457-b9fd689c7bcd"
      },
      "execution_count": 11,
      "outputs": [
        {
          "output_type": "stream",
          "name": "stdout",
          "text": [
            "This is the first line.\n",
            "This is the second line.\n",
            "And the third line.\n"
          ]
        }
      ]
    },
    {
      "cell_type": "markdown",
      "source": [
        "8. Use a lambda function in Python to sort a list of tuples based on the second element of each tuple."
      ],
      "metadata": {
        "id": "Fb461z6p98U9"
      }
    },
    {
      "cell_type": "code",
      "source": [
        "list = [(1,2),(3,4),(5,6),(7,8)]\n",
        "list.sort(key=lambda x: x[1])\n",
        "print(list)"
      ],
      "metadata": {
        "colab": {
          "base_uri": "https://localhost:8080/"
        },
        "id": "-lCrkixj-GB_",
        "outputId": "466311be-6e4b-4cbb-f4b1-ed8c0e1ae5a5"
      },
      "execution_count": null,
      "outputs": [
        {
          "output_type": "stream",
          "name": "stdout",
          "text": [
            "[(1, 2), (3, 4), (5, 6), (7, 8)]\n"
          ]
        }
      ]
    },
    {
      "cell_type": "markdown",
      "source": [
        "9. Write a Python program that uses `map()` to convert a list of temperatures from Celsius to Fahrenheit."
      ],
      "metadata": {
        "id": "tejsGoKG-QEV"
      }
    },
    {
      "cell_type": "code",
      "source": [
        "celsius_temps = [0, 20, 37, 100]\n",
        "fahrenheit_temps = list(map(lambda c:(c*9/5)+32, celsius_temps))\n",
        "print(\"Celsius temperatures:\", celsius_temps)\n",
        "print(\"Fahrenheit temperatures:\", fahrenheit_temps)"
      ],
      "metadata": {
        "id": "zKLWWrLxJ2L6",
        "colab": {
          "base_uri": "https://localhost:8080/"
        },
        "outputId": "c2ab735e-a9d5-473e-8ec0-70d60684e7a6"
      },
      "execution_count": 15,
      "outputs": [
        {
          "output_type": "stream",
          "name": "stdout",
          "text": [
            "Celsius temperatures: [0, 20, 37, 100]\n",
            "Fahrenheit temperatures: [32.0, 68.0, 98.6, 212.0]\n"
          ]
        }
      ]
    },
    {
      "cell_type": "markdown",
      "source": [
        "10.  Create a Python program that uses `filter()` to remove all the vowels from a given string?"
      ],
      "metadata": {
        "id": "SmuD0MdXmUVn"
      }
    },
    {
      "cell_type": "code",
      "source": [
        "#Create a Python program that uses filter() to remove all the vowels from a given string\n",
        "def remove_vowels(string):\n",
        "    vowels = 'aeiouAEIOU'\n",
        "    return ''.join(filter(lambda x: x not in vowels, string))\n",
        "print(remove_vowels(\"hello world\"))"
      ],
      "metadata": {
        "colab": {
          "base_uri": "https://localhost:8080/"
        },
        "id": "8Gr4YfCdmWlN",
        "outputId": "555da3e3-552c-4585-b9df-82c42bb063a6"
      },
      "execution_count": null,
      "outputs": [
        {
          "output_type": "stream",
          "name": "stdout",
          "text": [
            "hll wrld\n"
          ]
        }
      ]
    },
    {
      "cell_type": "markdown",
      "source": [
        "11.  Imagine an accounting routine used in a book shop. It works on a list with sublists, which look like this:\n",
        "\n",
        "Order Number       Book Title and Author          Quantity     Price Per Item\n",
        "\n",
        "34587              Learning Python, Mark Lutz         4          40.95\n",
        "\n",
        "98762              Programming Python, Mark Lutz      5          56.80\n",
        "\n",
        "77226              Head First Python, Paul Barry      3          32.95\n",
        "\n",
        "88112              Einfuhrung in Python3, Bernd Klein  3         24.99\n",
        "\n",
        "Write a Python program, which returns a list with 2-tuples. Each tuple consists of the order number and the\n",
        "product of the price per item and the quantity. The product should be increased by 10,- € if the value of the\n",
        "order is smaller than 100,00 €.\n",
        "\n",
        "Write a Python program using lambda and map."
      ],
      "metadata": {
        "id": "eu0dH_3PmuTD"
      }
    },
    {
      "cell_type": "code",
      "source": [
        "orders = [\n",
        "    [34587, \"Learning Python\",4, 40.95],\n",
        "    [98762, \"Programming in C\",5, 12.99],\n",
        "    [77226, \"Head First java\",3, 35.89],\n",
        "    [88112, \"Python for Data Analysis\",3, 24.99]\n",
        "]\n",
        "invoice = list(map(lambda order:(order[0], round(order[2] * order[3] + (10 if order[2] * order[3] < 100 else 0),2)),orders))\n",
        "print(invoice)"
      ],
      "metadata": {
        "colab": {
          "base_uri": "https://localhost:8080/"
        },
        "id": "4DTTZnGBrIWi",
        "outputId": "6f3d07d6-8a3e-471e-cc0f-6b17e57a1c71"
      },
      "execution_count": 21,
      "outputs": [
        {
          "output_type": "stream",
          "name": "stdout",
          "text": [
            "[(34587, 163.8), (98762, 74.95), (77226, 107.67), (88112, 84.97)]\n"
          ]
        }
      ]
    },
    {
      "cell_type": "code",
      "source": [],
      "metadata": {
        "id": "gZ98_V7MrIcH"
      },
      "execution_count": null,
      "outputs": []
    },
    {
      "cell_type": "code",
      "source": [],
      "metadata": {
        "id": "lbc6nc4Sptnz"
      },
      "execution_count": null,
      "outputs": []
    },
    {
      "cell_type": "code",
      "source": [],
      "metadata": {
        "id": "ZAg7SsgSmcSk"
      },
      "execution_count": null,
      "outputs": []
    },
    {
      "cell_type": "code",
      "source": [],
      "metadata": {
        "id": "kLv096wXmQWh"
      },
      "execution_count": null,
      "outputs": []
    },
    {
      "cell_type": "code",
      "source": [],
      "metadata": {
        "id": "6dzX7kUkfaab"
      },
      "execution_count": null,
      "outputs": []
    }
  ]
}